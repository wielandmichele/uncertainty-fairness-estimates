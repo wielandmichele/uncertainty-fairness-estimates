{
 "cells": [
  {
   "cell_type": "code",
   "execution_count": 1,
   "metadata": {},
   "outputs": [],
   "source": [
    "import pandas as pd\n",
    "import numpy as np\n",
    "import matplotlib.pyplot as plt\n",
    "from typing import List, Tuple, Dict, Generator\n",
    "\n",
    "from sklearn.metrics import accuracy_score, balanced_accuracy_score, roc_auc_score, roc_curve, auc, precision_recall_curve, average_precision_score, f1_score, confusion_matrix\n",
    "from sklearn.model_selection import train_test_split\n",
    "from sklearn.preprocessing import StandardScaler\n",
    "from sklearn.ensemble import RandomForestClassifier\n",
    "from sklearn.impute import SimpleImputer\n",
    "\n",
    "from fairlearn.postprocessing import ThresholdOptimizer\n",
    "from fairlearn.preprocessing import CorrelationRemover\n",
    "from fairlearn.reductions import EqualizedOdds\n",
    "from fairlearn.metrics import demographic_parity_difference, equalized_odds_difference\n",
    "from fairlearn.reductions import DemographicParity, EqualizedOdds\n",
    "from fairlearn.reductions import ExponentiatedGradient\n",
    "\n",
    "import warnings\n",
    "from tqdm import tqdm\n",
    "import time\n",
    "import torch\n",
    "\n",
    "from functions import *"
   ]
  },
  {
   "cell_type": "code",
   "execution_count": 2,
   "metadata": {},
   "outputs": [],
   "source": [
    "base_path = './res_german/'\n",
    "n_size = [100, 500, 700]\n",
    "\n",
    "data = pd.read_csv(\"german.csv\", sep = \";\")\n",
    "data['Sex'] = data['Sex_Marital_Status'].replace({1:0, 2:1, 3:0, 4:0})\n",
    "data.drop(columns=\"Sex_Marital_Status\", inplace=True)\n",
    "\n",
    "categorical_cols = ['Account_Balance', 'Payment_Status_of_Previous_Credit', 'Purpose',\n",
    "                    'Value_Savings_Stocks', 'Length_of_current_employment',\n",
    "                    'Guarantors', 'Most_valuable_available_asset', 'Concurrent_Credits', 'Type_of_apartment',\n",
    "                    'Occupation', 'Telephone', 'Foreign_Worker']\n",
    "\n",
    "numerical_cols = ['Duration_of_Credit_monthly', 'Credit_Amount', 'Instalment_per_cent', 'Duration_in_Current_address',\n",
    "                  'Age_years', 'No_of_Credits_at_this_Bank', 'No_of_dependents', 'Sex']\n",
    "\n",
    "for col_name in categorical_cols:\n",
    "    data[col_name] = data[col_name].astype(\"category\")\n",
    "    \n",
    "Y, A = data.loc[:, \"Creditability\"], data.loc[:,\"Sex\"]\n",
    "X = pd.get_dummies(data.drop(columns=[\"Creditability\"]))\n",
    "\n",
    "X_train, X_test, y_train, y_test, A_train, A_test = train_test_split(X, Y, A, test_size=0.3, random_state=42)"
   ]
  },
  {
   "attachments": {},
   "cell_type": "markdown",
   "metadata": {},
   "source": [
    "## Pre-processing method"
   ]
  },
  {
   "cell_type": "code",
   "execution_count": null,
   "metadata": {},
   "outputs": [],
   "source": [
    "bootstrap_correlation_remover(X_train,y_train,A_train,X_test,y_test,A_test,sensitive_feature=\"Sex\",\n",
    "                              B = 100, n_size = n_size, clf = 'rf', base_path = base_path)"
   ]
  },
  {
   "cell_type": "code",
   "execution_count": 30,
   "metadata": {},
   "outputs": [
    {
     "name": "stdout",
     "output_type": "stream",
     "text": [
      "Confidence intervals for size 1\n",
      "AUC: [0.58,0.72]\n",
      "DP: [0.00,0.41]\n",
      "EO: [0.02,0.49]\n",
      "\n",
      "Confidence intervals for size 2\n",
      "AUC: [0.72,0.79]\n",
      "DP: [0.01,0.24]\n",
      "EO: [0.02,0.35]\n",
      "\n",
      "Confidence intervals for size 3\n",
      "AUC: [0.73,0.79]\n",
      "DP: [0.01,0.21]\n",
      "EO: [0.03,0.40]\n"
     ]
    }
   ],
   "source": [
    "clf = 'rf'\n",
    "df_pre_100_rf = pd.read_csv(base_path+'pre_metrics_nsize_{}_{}'.format(n_size[0], clf))\n",
    "df_pre_500_rf = pd.read_csv(base_path+'pre_metrics_nsize_{}_{}'.format(n_size[1], clf))\n",
    "df_pre_700_rf = pd.read_csv(base_path+'pre_metrics_nsize_{}_{}'.format(n_size[2], clf))\n",
    "\n",
    "print_confidence_intervals(df_pre_100_rf, df_pre_500_rf, df_pre_700_rf)"
   ]
  },
  {
   "cell_type": "code",
   "execution_count": null,
   "metadata": {},
   "outputs": [],
   "source": [
    "bootstrap_correlation_remover(X_train,y_train,A_train,X_test,y_test,A_test,sensitive_feature=\"Sex\",\n",
    "                              B = 100, n_size = n_size, clf = 'lr', base_path = base_path)"
   ]
  },
  {
   "cell_type": "code",
   "execution_count": 9,
   "metadata": {},
   "outputs": [
    {
     "name": "stdout",
     "output_type": "stream",
     "text": [
      "Confidence intervals for size 1\n",
      "AUC: [0.62,0.73]\n",
      "DP: [0.00,0.17]\n",
      "EO: [0.02,0.26]\n",
      "\n",
      "Confidence intervals for size 2\n",
      "AUC: [0.72,0.78]\n",
      "DP: [0.00,0.14]\n",
      "EO: [0.01,0.21]\n",
      "\n",
      "Confidence intervals for size 3\n",
      "AUC: [0.73,0.79]\n",
      "DP: [0.00,0.14]\n",
      "EO: [0.01,0.21]\n"
     ]
    }
   ],
   "source": [
    "clf = 'lr'\n",
    "df_pre_100_lr = pd.read_csv(base_path+'pre_metrics_nsize_{}_{}'.format(n_size[0], clf))\n",
    "df_pre_500_lr = pd.read_csv(base_path+'pre_metrics_nsize_{}_{}'.format(n_size[1], clf))\n",
    "df_pre_700_lr = pd.read_csv(base_path+'pre_metrics_nsize_{}_{}'.format(n_size[2], clf))\n",
    "\n",
    "print_confidence_intervals(df_pre_100_lr, df_pre_500_lr, df_pre_700_lr)"
   ]
  },
  {
   "attachments": {},
   "cell_type": "markdown",
   "metadata": {},
   "source": [
    "## In-processing method"
   ]
  },
  {
   "cell_type": "code",
   "execution_count": null,
   "metadata": {},
   "outputs": [],
   "source": [
    "bootstrap_exp_gradient(X_train,y_train,A_train,X_test,y_test,A_test,fair_constraint = 'demographic_parity',\n",
    "                       B = 100, n_size = n_size,clf = 'rf',base_path=base_path)"
   ]
  },
  {
   "cell_type": "code",
   "execution_count": 33,
   "metadata": {},
   "outputs": [
    {
     "name": "stdout",
     "output_type": "stream",
     "text": [
      "Confidence intervals for size 1\n",
      "AUC: [0.52,0.63]\n",
      "DP: [0.00,0.11]\n",
      "EO: [0.01,0.19]\n",
      "\n",
      "Confidence intervals for size 2\n",
      "AUC: [0.60,0.70]\n",
      "DP: [0.02,0.18]\n",
      "EO: [0.04,0.26]\n",
      "\n",
      "Confidence intervals for size 3\n",
      "AUC: [0.62,0.71]\n",
      "DP: [0.01,0.14]\n",
      "EO: [0.02,0.26]\n"
     ]
    }
   ],
   "source": [
    "clf = 'rf'\n",
    "df_in_100_dp_rf = pd.read_csv(base_path+'in_metrics_nsize_{}_{}_{}'.format(n_size[0], 'demographic_parity', clf))\n",
    "df_in_500_dp_rf = pd.read_csv(base_path+'in_metrics_nsize_{}_{}_{}'.format(n_size[1], 'demographic_parity', clf))\n",
    "df_in_700_dp_rf  = pd.read_csv(base_path+'in_metrics_nsize_{}_{}_{}'.format(n_size[2], 'demographic_parity', clf))\n",
    "\n",
    "print_confidence_intervals(df_in_100_dp_rf, df_in_500_dp_rf, df_in_700_dp_rf)"
   ]
  },
  {
   "cell_type": "code",
   "execution_count": null,
   "metadata": {},
   "outputs": [],
   "source": [
    "bootstrap_exp_gradient(X_train,y_train,A_train,X_test,y_test,A_test,fair_constraint = 'equalized_odds',\n",
    "                       B = 100, n_size = n_size,clf = 'rf',base_path=base_path)"
   ]
  },
  {
   "cell_type": "code",
   "execution_count": 3,
   "metadata": {},
   "outputs": [
    {
     "name": "stdout",
     "output_type": "stream",
     "text": [
      "Confidence intervals for size 1\n",
      "AUC: [0.50,0.56]\n",
      "DP: [0.00,0.07]\n",
      "EO: [0.00,0.10]\n",
      "\n",
      "Confidence intervals for size 2\n",
      "AUC: [0.60,0.69]\n",
      "DP: [0.01,0.16]\n",
      "EO: [0.02,0.28]\n",
      "\n",
      "Confidence intervals for size 3\n",
      "AUC: [0.61,0.70]\n",
      "DP: [0.01,0.18]\n",
      "EO: [0.02,0.33]\n"
     ]
    }
   ],
   "source": [
    "clf = 'rf'\n",
    "df_in_100_eo_rf = pd.read_csv(base_path+'in_metrics_nsize_{}_{}_{}'.format(n_size[0], 'equalized_odds', clf))\n",
    "df_in_500_eo_rf = pd.read_csv(base_path+'in_metrics_nsize_{}_{}_{}'.format(n_size[1], 'equalized_odds', clf))\n",
    "df_in_700_eo_rf = pd.read_csv(base_path+'in_metrics_nsize_{}_{}_{}'.format(n_size[2], 'equalized_odds', clf))\n",
    "\n",
    "print_confidence_intervals(df_in_100_eo_rf, df_in_500_eo_rf, df_in_700_eo_rf)"
   ]
  },
  {
   "cell_type": "code",
   "execution_count": null,
   "metadata": {},
   "outputs": [],
   "source": [
    "bootstrap_exp_gradient(X_train,y_train,A_train,X_test,y_test,A_test,fair_constraint = 'demographic_parity',\n",
    "                       B = 100, n_size = n_size,clf = 'lr',base_path=base_path)"
   ]
  },
  {
   "cell_type": "code",
   "execution_count": 3,
   "metadata": {},
   "outputs": [
    {
     "name": "stdout",
     "output_type": "stream",
     "text": [
      "Confidence intervals for size 1\n",
      "AUC: [0.57,0.68]\n",
      "DP: [0.01,0.34]\n",
      "EO: [0.03,0.38]\n",
      "\n",
      "Confidence intervals for size 2\n",
      "AUC: [0.64,0.71]\n",
      "DP: [0.00,0.18]\n",
      "EO: [0.02,0.28]\n",
      "\n",
      "Confidence intervals for size 3\n",
      "AUC: [0.64,0.72]\n",
      "DP: [0.00,0.16]\n",
      "EO: [0.02,0.26]\n"
     ]
    }
   ],
   "source": [
    "clf = 'lr'\n",
    "df_in_100_dp_lr = pd.read_csv(base_path+'in_metrics_nsize_{}_{}_{}'.format(n_size[0], 'demographic_parity', clf))\n",
    "df_in_500_dp_lr = pd.read_csv(base_path+'in_metrics_nsize_{}_{}_{}'.format(n_size[1], 'demographic_parity', clf))\n",
    "df_in_700_dp_lr = pd.read_csv(base_path+'in_metrics_nsize_{}_{}_{}'.format(n_size[2], 'demographic_parity', clf))\n",
    "\n",
    "print_confidence_intervals(df_in_100_dp_lr, df_in_500_dp_lr, df_in_700_dp_lr)"
   ]
  },
  {
   "cell_type": "code",
   "execution_count": 4,
   "metadata": {},
   "outputs": [
    {
     "data": {
      "image/png": "[encoded data removed]",
      "text/plain": [
       "<Figure size 500x600 with 1 Axes>"
      ]
     },
     "metadata": {},
     "output_type": "display_data"
    }
   ],
   "source": [
    "metrics_mitigated_in_auc_lr = [df_in_100_dp_lr.dp, df_in_500_dp_lr.dp, df_in_700_dp_lr.dp]\n",
    "generate_boxplots(metrics_mitigated_in_auc_lr, \n",
    "                  n_size=  n_size,\n",
    "                  metric = 'AUC', \n",
    "                  method = 'exponentiated gradient',\n",
    "                  file_path = './fig_final/german_in_boxplot_auc_lr.png',\n",
    "                  dataset='German',\n",
    "                  clf = 'lr')"
   ]
  },
  {
   "cell_type": "code",
   "execution_count": 6,
   "metadata": {},
   "outputs": [
    {
     "data": {
      "image/png": "[encoded data removed]",
      "text/plain": [
       "<Figure size 500x600 with 1 Axes>"
      ]
     },
     "metadata": {},
     "output_type": "display_data"
    }
   ],
   "source": [
    "metrics_mitigated_in_dp_lr = [df_in_100_dp_lr.dp, df_in_500_dp_lr.dp, df_in_700_dp_lr.dp]\n",
    "generate_boxplots(metrics_mitigated_in_dp_lr, \n",
    "                  n_size=  n_size,\n",
    "                  metric = 'Demographic parity', \n",
    "                  method = 'exponentiated gradient',\n",
    "                  file_path = './fig_final/german_in_boxplot_dp_lr.png',\n",
    "                  dataset='German',\n",
    "                  clf = 'lr')"
   ]
  },
  {
   "cell_type": "code",
   "execution_count": null,
   "metadata": {},
   "outputs": [],
   "source": [
    "bootstrap_exp_gradient(X_train,y_train,A_train,X_test,y_test,A_test,fair_constraint = 'equalized_odds',\n",
    "                       B = 100, n_size = n_size,clf = 'lr',base_path=base_path)"
   ]
  },
  {
   "cell_type": "code",
   "execution_count": 7,
   "metadata": {},
   "outputs": [
    {
     "name": "stdout",
     "output_type": "stream",
     "text": [
      "Confidence intervals for size 1\n",
      "AUC: [0.56,0.69]\n",
      "DP: [0.00,0.25]\n",
      "EO: [0.02,0.32]\n",
      "\n",
      "Confidence intervals for size 2\n",
      "AUC: [0.65,0.74]\n",
      "DP: [0.01,0.19]\n",
      "EO: [0.02,0.31]\n",
      "\n",
      "Confidence intervals for size 3\n",
      "AUC: [0.64,0.74]\n",
      "DP: [0.00,0.20]\n",
      "EO: [0.02,0.34]\n"
     ]
    }
   ],
   "source": [
    "clf = 'lr'\n",
    "df_in_100_eo_lr = pd.read_csv(base_path+'in_metrics_nsize_{}_{}_{}'.format(n_size[0], 'equalized_odds', clf))\n",
    "df_in_500_eo_lr = pd.read_csv(base_path+'in_metrics_nsize_{}_{}_{}'.format(n_size[1], 'equalized_odds', clf))\n",
    "df_in_700_eo_lr = pd.read_csv(base_path+'in_metrics_nsize_{}_{}_{}'.format(n_size[2], 'equalized_odds', clf))\n",
    "\n",
    "print_confidence_intervals(df_in_100_eo_lr, df_in_500_eo_lr, df_in_700_eo_lr)"
   ]
  },
  {
   "cell_type": "code",
   "execution_count": 8,
   "metadata": {},
   "outputs": [
    {
     "data": {
      "image/png": "[encoded data removed]",
      "text/plain": [
       "<Figure size 500x600 with 1 Axes>"
      ]
     },
     "metadata": {},
     "output_type": "display_data"
    }
   ],
   "source": [
    "metrics_mitigated_in_eo_lr = [df_in_100_eo_lr.eo, df_in_500_eo_lr.eo, df_in_700_eo_lr.eo]\n",
    "generate_boxplots(metrics_mitigated_in_eo_lr, \n",
    "                  n_size=  n_size,\n",
    "                  metric = 'Equalized odds', \n",
    "                  method = 'exponentiated gradient',\n",
    "                  file_path = './fig_final/german_in_boxplot_eo_lr.png',\n",
    "                  dataset='German',\n",
    "                  clf = 'lr')"
   ]
  },
  {
   "attachments": {},
   "cell_type": "markdown",
   "metadata": {},
   "source": [
    "## Post-processing method"
   ]
  },
  {
   "cell_type": "code",
   "execution_count": null,
   "metadata": {},
   "outputs": [],
   "source": [
    "bootstrap_threshold_optimizer(X_train,y_train,A_train,X_test,y_test,A_test,fair_constraint = 'demographic_parity',\n",
    "                              B = 100, n_size = n_size, clf = 'rf', base_path=base_path)"
   ]
  },
  {
   "cell_type": "code",
   "execution_count": 11,
   "metadata": {},
   "outputs": [
    {
     "name": "stdout",
     "output_type": "stream",
     "text": [
      "Confidence intervals for size 1\n",
      "AUC: [0.48,0.63]\n",
      "DP: [0.03,0.71]\n",
      "EO: [0.06,0.74]\n",
      "\n",
      "Confidence intervals for size 2\n",
      "AUC: [0.53,0.72]\n",
      "DP: [0.01,0.60]\n",
      "EO: [0.04,0.61]\n",
      "\n",
      "Confidence intervals for size 3\n",
      "AUC: [0.52,0.72]\n",
      "DP: [0.02,0.32]\n",
      "EO: [0.06,0.56]\n"
     ]
    }
   ],
   "source": [
    "clf = 'rf'\n",
    "df_post_100_dp = pd.read_csv(base_path+'post_metrics_nsize_{}_{}_{}'.format(n_size[0], 'demographic_parity', clf))\n",
    "df_post_500_dp = pd.read_csv(base_path+'post_metrics_nsize_{}_{}_{}'.format(n_size[1], 'demographic_parity', clf))\n",
    "df_post_700_dp = pd.read_csv(base_path+'post_metrics_nsize_{}_{}_{}'.format(n_size[2], 'demographic_parity', clf))\n",
    "\n",
    "print_confidence_intervals(df_post_100_dp, df_post_500_dp, df_post_700_dp)"
   ]
  },
  {
   "cell_type": "code",
   "execution_count": null,
   "metadata": {},
   "outputs": [],
   "source": [
    "bootstrap_threshold_optimizer(X_train,y_train,A_train,X_test,y_test,A_test,fair_constraint = 'equalized_odds',\n",
    "                              B = 100, n_size = n_size, clf = 'rf', base_path=base_path)"
   ]
  },
  {
   "cell_type": "code",
   "execution_count": 17,
   "metadata": {},
   "outputs": [
    {
     "name": "stdout",
     "output_type": "stream",
     "text": [
      "Confidence intervals for size 1\n",
      "AUC: [0.56,0.69]\n",
      "DP: [0.09,0.60]\n",
      "EO: [0.19,0.78]\n",
      "\n",
      "Confidence intervals for size 2\n",
      "AUC: [0.62,0.69]\n",
      "DP: [0.10,0.44]\n",
      "EO: [0.15,0.49]\n",
      "\n",
      "Confidence intervals for size 3\n",
      "AUC: [0.62,0.70]\n",
      "DP: [0.11,0.42]\n",
      "EO: [0.16,0.53]\n"
     ]
    }
   ],
   "source": [
    "clf = 'rf'\n",
    "df_post_100_eo = pd.read_csv(base_path+'post_metrics_nsize_{}_{}_{}'.format(n_size[0], 'equalized_odds',clf))\n",
    "df_post_500_eo = pd.read_csv(base_path+'post_metrics_nsize_{}_{}_{}'.format(n_size[1], 'equalized_odds', clf))\n",
    "df_post_700_eo = pd.read_csv(base_path+'post_metrics_nsize_{}_{}_{}'.format(n_size[2], 'equalized_odds', clf))\n",
    "\n",
    "print_confidence_intervals(df_post_100_eo, df_post_500_eo, df_post_700_eo)"
   ]
  },
  {
   "cell_type": "code",
   "execution_count": null,
   "metadata": {},
   "outputs": [],
   "source": [
    "bootstrap_threshold_optimizer(X_train,y_train,A_train,X_test,y_test,A_test,fair_constraint = 'demographic_parity',\n",
    "                              B = 100, n_size = n_size, clf = 'lr', base_path=base_path)"
   ]
  },
  {
   "cell_type": "code",
   "execution_count": 23,
   "metadata": {},
   "outputs": [
    {
     "name": "stdout",
     "output_type": "stream",
     "text": [
      "Confidence intervals for size 1\n",
      "AUC: [0.57,0.69]\n",
      "DP: [0.00,0.34]\n",
      "EO: [0.02,0.33]\n",
      "\n",
      "Confidence intervals for size 2\n",
      "AUC: [0.65,0.74]\n",
      "DP: [0.01,0.22]\n",
      "EO: [0.04,0.25]\n",
      "\n",
      "Confidence intervals for size 3\n",
      "AUC: [0.68,0.75]\n",
      "DP: [0.00,0.14]\n",
      "EO: [0.02,0.23]\n"
     ]
    }
   ],
   "source": [
    "clf = 'lr'\n",
    "df_post_100_dp_lr = pd.read_csv(base_path+'post_metrics_nsize_{}_{}_{}'.format(n_size[0], 'demographic_parity', clf))\n",
    "df_post_500_dp_lr = pd.read_csv(base_path+'post_metrics_nsize_{}_{}_{}'.format(n_size[1], 'demographic_parity', clf))\n",
    "df_post_700_dp_lr = pd.read_csv(base_path+'post_metrics_nsize_{}_{}_{}'.format(n_size[2], 'demographic_parity', clf))\n",
    "\n",
    "print_confidence_intervals(df_post_100_dp_lr, df_post_500_dp_lr, df_post_700_dp_lr)"
   ]
  },
  {
   "cell_type": "code",
   "execution_count": null,
   "metadata": {},
   "outputs": [],
   "source": [
    "bootstrap_threshold_optimizer(X_train,y_train,A_train,X_test,y_test,A_test,fair_constraint = 'equalized_odds',\n",
    "                              B = 100, n_size = n_size, clf = 'lr', base_path=base_path)"
   ]
  },
  {
   "cell_type": "code",
   "execution_count": 25,
   "metadata": {},
   "outputs": [
    {
     "name": "stdout",
     "output_type": "stream",
     "text": [
      "Confidence intervals for size 1\n",
      "AUC: [0.59,0.70]\n",
      "DP: [0.01,0.38]\n",
      "EO: [0.05,0.40]\n",
      "\n",
      "Confidence intervals for size 2\n",
      "AUC: [0.64,0.75]\n",
      "DP: [0.01,0.20]\n",
      "EO: [0.04,0.33]\n",
      "\n",
      "Confidence intervals for size 3\n",
      "AUC: [0.67,0.76]\n",
      "DP: [0.01,0.19]\n",
      "EO: [0.03,0.25]\n"
     ]
    }
   ],
   "source": [
    "clf = 'lr'\n",
    "df_post_100_eo_lr = pd.read_csv(base_path+'post_metrics_nsize_{}_{}_{}'.format(n_size[0], 'equalized_odds', clf))\n",
    "df_post_500_eo_lr = pd.read_csv(base_path+'post_metrics_nsize_{}_{}_{}'.format(n_size[1], 'equalized_odds', clf))\n",
    "df_post_700_eo_lr = pd.read_csv(base_path+'post_metrics_nsize_{}_{}_{}'.format(n_size[2], 'equalized_odds', clf))\n",
    "\n",
    "print_confidence_intervals(df_post_100_eo_lr, df_post_500_eo_lr, df_post_700_eo_lr)"
   ]
  }
 ],
 "metadata": {
  "kernelspec": {
   "display_name": "visInt",
   "language": "python",
   "name": "python3"
  },
  "language_info": {
   "codemirror_mode": {
    "name": "ipython",
    "version": 3
   },
   "file_extension": ".py",
   "mimetype": "text/x-python",
   "name": "python",
   "nbconvert_exporter": "python",
   "pygments_lexer": "ipython3",
   "version": "3.9.16"
  },
  "orig_nbformat": 4
 },
 "nbformat": 4,
 "nbformat_minor": 2
}
