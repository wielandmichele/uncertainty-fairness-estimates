{
 "cells": [
  {
   "cell_type": "code",
   "execution_count": 1,
   "metadata": {},
   "outputs": [],
   "source": [
    "import pandas as pd\n",
    "import numpy as np\n",
    "import matplotlib.pyplot as plt\n",
    "from typing import List, Tuple, Dict, Generator\n",
    "\n",
    "from sklearn import preprocessing\n",
    "from sklearn.metrics import accuracy_score, balanced_accuracy_score, roc_auc_score, roc_curve, auc, precision_recall_curve, average_precision_score, f1_score, confusion_matrix\n",
    "from sklearn.model_selection import train_test_split\n",
    "from sklearn.preprocessing import StandardScaler\n",
    "from sklearn.ensemble import RandomForestClassifier\n",
    "\n",
    "from fairlearn.postprocessing import ThresholdOptimizer\n",
    "from fairlearn.preprocessing import CorrelationRemover\n",
    "from fairlearn.reductions import EqualizedOdds\n",
    "from fairlearn.metrics import demographic_parity_difference, equalized_odds_difference\n",
    "from fairlearn.reductions import DemographicParity, EqualizedOdds\n",
    "from fairlearn.reductions import ExponentiatedGradient\n",
    "\n",
    "import warnings\n",
    "from tqdm import tqdm\n",
    "import time\n",
    "\n",
    "from functions import *\n",
    "\n",
    "base_path = './res_adult/'\n",
    "n_size = [100,1000,10000]"
   ]
  },
  {
   "attachments": {},
   "cell_type": "markdown",
   "metadata": {},
   "source": [
    "## Pre-processing method"
   ]
  },
  {
   "cell_type": "code",
   "execution_count": 2,
   "metadata": {},
   "outputs": [],
   "source": [
    "data = pd.read_csv(\"adult.csv\")\n",
    "data.income = data.income.replace({'<=50K':0, '>50K':1})\n",
    "data.gender = data.gender.replace({'Male':0, 'Female':1})\n",
    "\n",
    "data_types = data.dtypes\n",
    "categorical_features = data_types[data_types == \"object\"].index.tolist()\n",
    "\n",
    "for col_name in categorical_features:\n",
    "    data[col_name] = data[col_name].astype(\"category\")\n",
    "\n",
    "Y, A = data.loc[:, \"income\"], data.loc[:,\"gender\"]\n",
    "X = pd.get_dummies(data.drop(columns=[\"income\"]))\n",
    "\n",
    "X_train, X_test, y_train, y_test, A_train, A_test = train_test_split(X, Y, A, test_size=0.3, random_state=42)"
   ]
  },
  {
   "cell_type": "code",
   "execution_count": null,
   "metadata": {},
   "outputs": [],
   "source": [
    "bootstrap_correlation_remover(X_train,y_train,A_train,X_test,y_test,A_test,sensitive_feature=\"gender\",\n",
    "                              B = 100, n_size = n_size, clf = \"rf\", base_path = base_path)"
   ]
  },
  {
   "cell_type": "code",
   "execution_count": 9,
   "metadata": {},
   "outputs": [
    {
     "name": "stdout",
     "output_type": "stream",
     "text": [
      "Confidence intervals for size 1\n",
      "AUC: [0.78,0.85]\n",
      "DP: [0.10,0.41]\n",
      "EO: [0.15,0.68]\n",
      "\n",
      "Confidence intervals for size 2\n",
      "AUC: [0.86,0.88]\n",
      "DP: [0.18,0.26]\n",
      "EO: [0.23,0.51]\n",
      "\n",
      "Confidence intervals for size 3\n",
      "AUC: [0.89,0.90]\n",
      "DP: [0.18,0.21]\n",
      "EO: [0.10,0.20]\n"
     ]
    }
   ],
   "source": [
    "clf = \"rf\"\n",
    "df_pre_100_rf = pd.read_csv(base_path+'pre_metrics_nsize_{}_{}'.format(n_size[0], clf))\n",
    "df_pre_1000_rf = pd.read_csv(base_path+'pre_metrics_nsize_{}_{}'.format(n_size[1], clf))\n",
    "df_pre_10000_rf = pd.read_csv(base_path+'pre_metrics_nsize_{}_{}'.format(n_size[2], clf))\n",
    "\n",
    "print_confidence_intervals(df_pre_100_rf, df_pre_1000_rf, df_pre_10000_rf)"
   ]
  },
  {
   "attachments": {},
   "cell_type": "markdown",
   "metadata": {},
   "source": [
    "#### Logistic Regression"
   ]
  },
  {
   "cell_type": "code",
   "execution_count": null,
   "metadata": {},
   "outputs": [],
   "source": [
    "bootstrap_correlation_remover(X_train,y_train,A_train,X_test,y_test,A_test,sensitive_feature=\"gender\",\n",
    "                              B = 100, n_size = n_size, clf = \"lr\", base_path = base_path)"
   ]
  },
  {
   "cell_type": "code",
   "execution_count": 12,
   "metadata": {},
   "outputs": [
    {
     "name": "stdout",
     "output_type": "stream",
     "text": [
      "Confidence intervals for size 1\n",
      "AUC: [0.52,0.75]\n",
      "DP: [0.00,0.21]\n",
      "EO: [0.02,0.29]\n",
      "\n",
      "Confidence intervals for size 2\n",
      "AUC: [0.54,0.76]\n",
      "DP: [0.00,0.04]\n",
      "EO: [0.04,0.16]\n",
      "\n",
      "Confidence intervals for size 3\n",
      "AUC: [0.55,0.74]\n",
      "DP: [0.02,0.04]\n",
      "EO: [0.04,0.15]\n"
     ]
    }
   ],
   "source": [
    "clf = \"lr\"\n",
    "df_pre_100_lr = pd.read_csv(base_path+'pre_metrics_nsize_{}_{}'.format(n_size[0], clf))\n",
    "df_pre_1000_lr = pd.read_csv(base_path+'pre_metrics_nsize_{}_{}'.format(n_size[1], clf))\n",
    "df_pre_10000_lr = pd.read_csv(base_path+'pre_metrics_nsize_{}_{}'.format(n_size[2], clf))\n",
    "\n",
    "print_confidence_intervals(df_pre_100_lr, df_pre_1000_lr, df_pre_10000_lr)"
   ]
  },
  {
   "attachments": {},
   "cell_type": "markdown",
   "metadata": {},
   "source": [
    "## In-processing method"
   ]
  },
  {
   "cell_type": "code",
   "execution_count": 2,
   "metadata": {},
   "outputs": [],
   "source": [
    "data = pd.read_csv(\"adult.csv\")\n",
    "data.income = data.income.replace({'<=50K':0, '>50K':1})\n",
    "data.gender = data.gender.replace({'Male':0, 'Female':1})\n",
    "\n",
    "data_types = data.dtypes\n",
    "categorical_features = data_types[data_types == \"object\"].index.tolist()\n",
    "\n",
    "for col_name in categorical_features:\n",
    "    data[col_name] = data[col_name].astype(\"category\")\n",
    "\n",
    "Y, A = data.loc[:, \"income\"], data.loc[:, \"gender\"]\n",
    "X = pd.get_dummies(data.drop(columns=[\"income\"]))\n",
    "\n",
    "X_train, X_test, y_train, y_test, A_train, A_test = train_test_split(X, Y, A, test_size=0.3)"
   ]
  },
  {
   "cell_type": "code",
   "execution_count": null,
   "metadata": {},
   "outputs": [],
   "source": [
    "bootstrap_exp_gradient(X_train,y_train,A_train,X_test,y_test,A_test,fair_constraint = 'demographic_parity',\n",
    "                       B = 100, n_size = n_size, clf = 'rf', base_path = base_path)"
   ]
  },
  {
   "cell_type": "code",
   "execution_count": 2,
   "metadata": {},
   "outputs": [
    {
     "name": "stdout",
     "output_type": "stream",
     "text": [
      "Confidence intervals for size 1\n",
      "AUC: [0.45,0.68]\n",
      "DP: [0.00,0.13]\n",
      "EO: [0.04,0.30]\n",
      "\n",
      "Confidence intervals for size 2\n",
      "AUC: [0.69,0.74]\n",
      "DP: [0.00,0.05]\n",
      "EO: [0.08,0.17]\n",
      "\n",
      "Confidence intervals for size 3\n",
      "AUC: [0.74,0.75]\n",
      "DP: [0.00,0.02]\n",
      "EO: [0.10,0.13]\n"
     ]
    }
   ],
   "source": [
    "clf = \"rf\"\n",
    "df_in_100_dp_rf = pd.read_csv(base_path+'in_metrics_nsize_{}_{}_{}'.format(n_size[0], 'demographic_parity', clf))\n",
    "df_in_1000_dp_rf = pd.read_csv(base_path+'in_metrics_nsize_{}_{}_{}'.format(n_size[1], 'demographic_parity', clf))\n",
    "df_in_10000_dp_rf = pd.read_csv(base_path+'in_metrics_nsize_{}_{}_{}'.format(n_size[2], 'demographic_parity', clf))\n",
    "\n",
    "print_confidence_intervals(df_in_100_dp_rf, df_in_1000_dp_rf, df_in_10000_dp_rf)"
   ]
  },
  {
   "cell_type": "code",
   "execution_count": null,
   "metadata": {},
   "outputs": [],
   "source": [
    "bootstrap_exp_gradient(X_train,y_train,A_train,X_test,y_test,A_test,fair_constraint = 'equalized_odds',\n",
    "                       B = 100, n_size = n_size, clf = 'rf', base_path = base_path)"
   ]
  },
  {
   "cell_type": "code",
   "execution_count": 3,
   "metadata": {},
   "outputs": [
    {
     "name": "stdout",
     "output_type": "stream",
     "text": [
      "Confidence intervals for size 1\n",
      "AUC: [0.58,0.73]\n",
      "DP: [0.04,0.28]\n",
      "EO: [0.02,0.38]\n",
      "\n",
      "Confidence intervals for size 2\n",
      "AUC: [0.72,0.75]\n",
      "DP: [0.19,0.26]\n",
      "EO: [0.22,0.43]\n",
      "\n",
      "Confidence intervals for size 3\n",
      "AUC: [0.75,0.77]\n",
      "DP: [0.16,0.19]\n",
      "EO: [0.07,0.15]\n"
     ]
    }
   ],
   "source": [
    "clf = \"rf\"\n",
    "df_in_100_eo_rf = pd.read_csv(base_path+'in_metrics_nsize_{}_{}_{}'.format(n_size[0], 'equalized_odds', clf))\n",
    "df_in_1000_eo_rf = pd.read_csv(base_path+'in_metrics_nsize_{}_{}_{}'.format(n_size[1], 'equalized_odds', clf))\n",
    "df_in_10000_eo_rf = pd.read_csv(base_path+'in_metrics_nsize_{}_{}_{}'.format(n_size[2], 'equalized_odds', clf))\n",
    "\n",
    "print_confidence_intervals(df_in_100_eo_rf, df_in_1000_eo_rf, df_in_10000_eo_rf)"
   ]
  },
  {
   "attachments": {},
   "cell_type": "markdown",
   "metadata": {},
   "source": [
    "## Logistic regression"
   ]
  },
  {
   "cell_type": "code",
   "execution_count": null,
   "metadata": {},
   "outputs": [],
   "source": [
    "bootstrap_exp_gradient(X_train,y_train,A_train,X_test,y_test,A_test,fair_constraint = 'demographic_parity',\n",
    "                       B = 100, n_size = n_size, clf = 'lr', base_path = base_path)"
   ]
  },
  {
   "cell_type": "code",
   "execution_count": 6,
   "metadata": {},
   "outputs": [
    {
     "name": "stdout",
     "output_type": "stream",
     "text": [
      "Confidence intervals for size 1\n",
      "AUC: [0.48,0.71]\n",
      "DP: [0.00,0.18]\n",
      "EO: [0.01,0.25]\n",
      "\n",
      "Confidence intervals for size 2\n",
      "AUC: [0.47,0.74]\n",
      "DP: [0.00,0.05]\n",
      "EO: [0.00,0.15]\n",
      "\n",
      "Confidence intervals for size 3\n",
      "AUC: [0.48,0.61]\n",
      "DP: [0.00,0.03]\n",
      "EO: [0.02,0.09]\n"
     ]
    }
   ],
   "source": [
    "clf = \"lr\"\n",
    "df_in_100_dp_lr = pd.read_csv(base_path+'in_metrics_nsize_{}_{}_{}'.format(n_size[0], 'demographic_parity', clf))\n",
    "df_in_1000_dp_lr = pd.read_csv(base_path+'in_metrics_nsize_{}_{}_{}'.format(n_size[1], 'demographic_parity', clf))\n",
    "df_in_10000_dp_lr = pd.read_csv(base_path+'in_metrics_nsize_{}_{}_{}'.format(n_size[2], 'demographic_parity', clf))\n",
    "\n",
    "print_confidence_intervals(df_in_100_dp_lr, df_in_1000_dp_lr, df_in_10000_dp_lr)"
   ]
  },
  {
   "cell_type": "code",
   "execution_count": null,
   "metadata": {},
   "outputs": [],
   "source": [
    "bootstrap_exp_gradient(X_train,y_train,A_train,X_test,y_test,A_test,fair_constraint = 'equalized_odds',\n",
    "                       B = 100, n_size = n_size, clf = 'lr', base_path = base_path)"
   ]
  },
  {
   "cell_type": "code",
   "execution_count": 5,
   "metadata": {},
   "outputs": [
    {
     "name": "stdout",
     "output_type": "stream",
     "text": [
      "Confidence intervals for size 1\n",
      "AUC: [0.48,0.73]\n",
      "DP: [0.00,0.22]\n",
      "EO: [0.02,0.21]\n",
      "\n",
      "Confidence intervals for size 2\n",
      "AUC: [0.56,0.77]\n",
      "DP: [0.01,0.08]\n",
      "EO: [0.00,0.07]\n",
      "\n",
      "Confidence intervals for size 3\n",
      "AUC: [0.58,0.79]\n",
      "DP: [0.02,0.07]\n",
      "EO: [0.01,0.05]\n"
     ]
    }
   ],
   "source": [
    "clf = \"lr\"\n",
    "df_in_100_eo_lr = pd.read_csv(base_path+'in_metrics_nsize_{}_{}_{}'.format(n_size[0], 'equalized_odds', clf))\n",
    "df_in_1000_eo_lr = pd.read_csv(base_path+'in_metrics_nsize_{}_{}_{}'.format(n_size[1], 'equalized_odds', clf))\n",
    "df_in_10000_eo_lr = pd.read_csv(base_path+'in_metrics_nsize_{}_{}_{}'.format(n_size[2], 'equalized_odds', clf))\n",
    "\n",
    "print_confidence_intervals(df_in_100_eo_lr, df_in_1000_eo_lr, df_in_10000_eo_lr)"
   ]
  },
  {
   "attachments": {},
   "cell_type": "markdown",
   "metadata": {},
   "source": [
    "## Post-processing method"
   ]
  },
  {
   "cell_type": "code",
   "execution_count": 3,
   "metadata": {},
   "outputs": [],
   "source": [
    "data = pd.read_csv(\"adult.csv\")\n",
    "data = data.replace({'<=50K':0, '>50K':1})\n",
    "\n",
    "data_types = data.dtypes\n",
    "categorical_features = data_types[data_types == \"object\"].index.tolist()\n",
    "\n",
    "for col_name in categorical_features:\n",
    "    data[col_name] = data[col_name].astype(\"category\")\n",
    "\n",
    "Y, A = data.loc[:, \"income\"], data.loc[:, \"gender\"]\n",
    "X = pd.get_dummies(data.drop(columns=[\"income\", \"gender\"]))\n",
    "\n",
    "X_train, X_test, y_train, y_test, A_train, A_test = train_test_split(X, Y, A, test_size=0.3, random_state=42)"
   ]
  },
  {
   "cell_type": "code",
   "execution_count": null,
   "metadata": {},
   "outputs": [],
   "source": [
    "bootstrap_threshold_optimizer(X_train,y_train,A_train,X_test,y_test,A_test,fair_constraint = 'demographic_parity',\n",
    "                              B = 100, n_size = n_size, clf = 'rf', base_path = base_path)"
   ]
  },
  {
   "cell_type": "code",
   "execution_count": 20,
   "metadata": {},
   "outputs": [
    {
     "name": "stdout",
     "output_type": "stream",
     "text": [
      "Confidence intervals for size 1\n",
      "AUC: [0.55,0.81]\n",
      "DP: [0.01,0.62]\n",
      "EO: [0.06,0.64]\n",
      "\n",
      "Confidence intervals for size 2\n",
      "AUC: [0.61,0.75]\n",
      "DP: [0.10,0.38]\n",
      "EO: [0.24,0.48]\n",
      "\n",
      "Confidence intervals for size 3\n",
      "AUC: [0.68,0.79]\n",
      "DP: [0.02,0.28]\n",
      "EO: [0.13,0.38]\n"
     ]
    }
   ],
   "source": [
    "clf = 'rf'\n",
    "df_post_100_dp_rf = pd.read_csv(base_path+'post_metrics_nsize_{}_{}_{}'.format(n_size[0], 'demographic_parity', clf))\n",
    "df_post_1000_dp_rf = pd.read_csv(base_path+'post_metrics_nsize_{}_{}_{}'.format(n_size[1], 'demographic_parity', clf))\n",
    "df_post_10000_dp_rf = pd.read_csv(base_path+'post_metrics_nsize_{}_{}_{}'.format(n_size[2], 'demographic_parity', clf))\n",
    "\n",
    "print_confidence_intervals(df_post_100_dp_rf, df_post_1000_dp_rf, df_post_10000_dp_rf)"
   ]
  },
  {
   "cell_type": "code",
   "execution_count": null,
   "metadata": {},
   "outputs": [],
   "source": [
    "bootstrap_threshold_optimizer(X_train,y_train,A_train,X_test,y_test,A_test, fair_constraint = 'equalized_odds',\n",
    "                              B = 100, n_size = n_size, clf = 'rf', base_path=base_path)"
   ]
  },
  {
   "cell_type": "code",
   "execution_count": 22,
   "metadata": {},
   "outputs": [
    {
     "name": "stdout",
     "output_type": "stream",
     "text": [
      "Confidence intervals for size 1\n",
      "AUC: [0.60,0.73]\n",
      "DP: [0.07,0.32]\n",
      "EO: [0.05,0.47]\n",
      "\n",
      "Confidence intervals for size 2\n",
      "AUC: [0.73,0.77]\n",
      "DP: [0.12,0.24]\n",
      "EO: [0.05,0.27]\n",
      "\n",
      "Confidence intervals for size 3\n",
      "AUC: [0.73,0.79]\n",
      "DP: [0.16,0.21]\n",
      "EO: [0.06,0.15]\n"
     ]
    }
   ],
   "source": [
    "clf = 'rf'\n",
    "df_post_100_eo_rf = pd.read_csv(base_path+'post_metrics_nsize_{}_{}_{}'.format(n_size[0], 'equalized_odds', clf))\n",
    "df_post_1000_eo_rf = pd.read_csv(base_path+'post_metrics_nsize_{}_{}_{}'.format(n_size[1], 'equalized_odds', clf))\n",
    "df_post_10000_eo_rf = pd.read_csv(base_path+'post_metrics_nsize_{}_{}_{}'.format(n_size[2], 'equalized_odds', clf))\n",
    "\n",
    "print_confidence_intervals(df_post_100_eo_rf, df_post_1000_eo_rf, df_post_10000_eo_rf)"
   ]
  },
  {
   "attachments": {},
   "cell_type": "markdown",
   "metadata": {},
   "source": [
    "#### Logistic Regression"
   ]
  },
  {
   "cell_type": "code",
   "execution_count": null,
   "metadata": {},
   "outputs": [],
   "source": [
    "bootstrap_threshold_optimizer(X_train,y_train,A_train,X_test,y_test,A_test,fair_constraint = 'demographic_parity',\n",
    "                              B = 100, n_size = n_size, clf = 'lr', base_path = base_path)"
   ]
  },
  {
   "cell_type": "code",
   "execution_count": 4,
   "metadata": {},
   "outputs": [
    {
     "name": "stdout",
     "output_type": "stream",
     "text": [
      "Confidence intervals for size 1\n",
      "AUC: [0.52,0.70]\n",
      "DP: [0.01,0.25]\n",
      "EO: [0.02,0.27]\n",
      "\n",
      "Confidence intervals for size 2\n",
      "AUC: [0.54,0.75]\n",
      "DP: [0.00,0.07]\n",
      "EO: [0.04,0.17]\n",
      "\n",
      "Confidence intervals for size 3\n",
      "AUC: [0.54,0.72]\n",
      "DP: [0.00,0.02]\n",
      "EO: [0.05,0.17]\n"
     ]
    }
   ],
   "source": [
    "clf = 'lr'\n",
    "df_post_100_dp_lr = pd.read_csv(base_path+'post_metrics_nsize_{}_{}_{}'.format(n_size[0], 'demographic_parity', clf))\n",
    "df_post_1000_dp_lr = pd.read_csv(base_path+'post_metrics_nsize_{}_{}_{}'.format(n_size[1], 'demographic_parity', clf))\n",
    "df_post_10000_dp_lr = pd.read_csv(base_path+'post_metrics_nsize_{}_{}_{}'.format(n_size[2], 'demographic_parity', clf))\n",
    "\n",
    "print_confidence_intervals(df_post_100_dp_lr, df_post_1000_dp_lr, df_post_10000_dp_lr)"
   ]
  },
  {
   "cell_type": "code",
   "execution_count": 5,
   "metadata": {},
   "outputs": [
    {
     "data": {
      "image/png": "[encoded data removed]",
      "text/plain": [
       "<Figure size 500x600 with 1 Axes>"
      ]
     },
     "metadata": {},
     "output_type": "display_data"
    }
   ],
   "source": [
    "metrics_mitigated_lr_auc = [df_post_100_dp_lr.auc, df_post_1000_dp_lr.auc, df_post_10000_dp_lr.auc]\n",
    "generate_boxplots(metrics_mitigated_lr_auc,\n",
    "                  n_size = n_size,\n",
    "                  metric = 'AUC',\n",
    "                  method = 'threshold optimizer',\n",
    "                  file_path='./fig_final/adult_post_boxplot_auc_lr.png',\n",
    "                  dataset = 'Adult',\n",
    "                  clf = 'lr')"
   ]
  },
  {
   "cell_type": "code",
   "execution_count": 7,
   "metadata": {},
   "outputs": [
    {
     "data": {
      "image/png": "[encoded data removed]",
      "text/plain": [
       "<Figure size 500x600 with 1 Axes>"
      ]
     },
     "metadata": {},
     "output_type": "display_data"
    }
   ],
   "source": [
    "metrics_mitigated_lr_dp = [df_post_100_dp_lr.dp, df_post_1000_dp_lr.dp, df_post_10000_dp_lr.dp]\n",
    "generate_boxplots(metrics_mitigated_lr_dp,\n",
    "                  n_size = n_size,\n",
    "                  metric = 'Demographic parity',\n",
    "                  method = 'threshold optimizer',\n",
    "                  file_path='./fig_final/adult_post_boxplot_dp_lr.png',\n",
    "                  dataset = 'Adult',\n",
    "                  clf = 'lr')"
   ]
  },
  {
   "cell_type": "code",
   "execution_count": null,
   "metadata": {},
   "outputs": [],
   "source": [
    "bootstrap_threshold_optimizer(X_train,y_train,A_train,X_test,y_test,A_test, fair_constraint = 'equalized_odds',\n",
    "                              B = 100, n_size = n_size, clf = 'lr', base_path=base_path)"
   ]
  },
  {
   "cell_type": "code",
   "execution_count": 8,
   "metadata": {},
   "outputs": [
    {
     "name": "stdout",
     "output_type": "stream",
     "text": [
      "Confidence intervals for size 1\n",
      "AUC: [0.43,0.71]\n",
      "DP: [0.01,0.23]\n",
      "EO: [0.02,0.22]\n",
      "\n",
      "Confidence intervals for size 2\n",
      "AUC: [0.53,0.75]\n",
      "DP: [0.00,0.10]\n",
      "EO: [0.01,0.19]\n",
      "\n",
      "Confidence intervals for size 3\n",
      "AUC: [0.53,0.77]\n",
      "DP: [0.03,0.09]\n",
      "EO: [0.00,0.05]\n"
     ]
    }
   ],
   "source": [
    "clf = 'lr'\n",
    "df_post_100_eo_lr = pd.read_csv(base_path+'post_metrics_nsize_{}_{}_{}'.format(n_size[0], 'equalized_odds', clf))\n",
    "df_post_1000_eo_lr = pd.read_csv(base_path+'post_metrics_nsize_{}_{}_{}'.format(n_size[1], 'equalized_odds', clf))\n",
    "df_post_10000_eo_lr = pd.read_csv(base_path+'post_metrics_nsize_{}_{}_{}'.format(n_size[2], 'equalized_odds', clf))\n",
    "\n",
    "print_confidence_intervals(df_post_100_eo_lr, df_post_1000_eo_lr, df_post_10000_eo_lr)"
   ]
  },
  {
   "cell_type": "code",
   "execution_count": 9,
   "metadata": {},
   "outputs": [
    {
     "data": {
      "image/png": "[encoded data removed]",
      "text/plain": [
       "<Figure size 500x600 with 1 Axes>"
      ]
     },
     "metadata": {},
     "output_type": "display_data"
    }
   ],
   "source": [
    "metrics_mitigated_lr_eo = [df_post_100_eo_lr.eo, df_post_1000_eo_lr.eo, df_post_10000_eo_lr.eo]\n",
    "generate_boxplots(metrics_mitigated_lr_eo,\n",
    "                  n_size = n_size,\n",
    "                  metric = 'Equalized odds',\n",
    "                  method = 'threshold optimizer',\n",
    "                  file_path='./fig_final/adult_post_boxplot_eo_lr.png',\n",
    "                  dataset = 'Adult',\n",
    "                  clf = 'lr')"
   ]
  },
  {
   "attachments": {},
   "cell_type": "markdown",
   "metadata": {},
   "source": [
    "#### Compare to logistic regression without fairness-promoting algorithm"
   ]
  },
  {
   "cell_type": "code",
   "execution_count": null,
   "metadata": {},
   "outputs": [],
   "source": [
    "clf = 'lr'\n",
    "n_train = len(X_train)\n",
    "ind_train = np.arange(n_train)\n",
    "    \n",
    "for n in tqdm(n_size):\n",
    "        auc_boot_unmitigated = []; eo_boot_unmitigated = []; dp_boot_unmitigated = []\n",
    "        df_unmitigated = pd.DataFrame()\n",
    "\n",
    "        sample_ind = np.random.choice(ind_train, size=n, replace=False)\n",
    "        X_train_sample = X_train.iloc[sample_ind,:]\n",
    "        y_train_sample = y_train.iloc[sample_ind]\n",
    "        A_train_sample = A_train.iloc[sample_ind]\n",
    "\n",
    "        n_train_sample = len(X_train_sample)\n",
    "        ind_train_sample = np.arange(n_train_sample)\n",
    "\n",
    "        for b in tqdm(range(100)):\n",
    "                boot_ind = np.random.choice(ind_train_sample, size = n, replace=True)\n",
    "                X_train_boot = X_train_sample.iloc[boot_ind,:]\n",
    "                y_train_boot = y_train_sample.iloc[boot_ind]\n",
    "                A_train_boot = A_train_sample.iloc[boot_ind]\n",
    "\n",
    "                classifier = LogisticRegression(random_state=42, max_iter = 1000)\n",
    "                classifier.fit(X_train_boot, y_train_boot)\n",
    "\n",
    "                pred = classifier.predict(X_test)\n",
    "                pred_proba = classifier.predict_proba(X_test)[:,1]\n",
    "\n",
    "                auc_unmitigated = roc_auc_score(y_test, pred_proba)\n",
    "                eo_unmitigated = equalized_odds_difference(y_test, pred, sensitive_features=A_test)\n",
    "                dp_unmitigated = demographic_parity_difference(y_test, pred, sensitive_features=A_test)\n",
    "\n",
    "                auc_boot_unmitigated.append(auc_unmitigated)\n",
    "                eo_boot_unmitigated.append(eo_unmitigated )\n",
    "                dp_boot_unmitigated.append(dp_unmitigated)\n",
    "\n",
    "        df_unmitigated['auc'] = auc_boot_unmitigated\n",
    "        df_unmitigated['eo'] = eo_boot_unmitigated\n",
    "        df_unmitigated['dp'] = dp_boot_unmitigated\n",
    "\n",
    "        path = base_path+'post_metrics_nsize_{}_lr_without_fairness'.format(n)\n",
    "        df_unmitigated.to_csv(path, index = False)"
   ]
  },
  {
   "cell_type": "code",
   "execution_count": 16,
   "metadata": {},
   "outputs": [
    {
     "name": "stdout",
     "output_type": "stream",
     "text": [
      "Confidence intervals for size 1\n",
      "AUC: [0.48,0.78]\n",
      "DP: [0.01,0.17]\n",
      "EO: [0.02,0.11]\n",
      "\n",
      "Confidence intervals for size 2\n",
      "AUC: [0.57,0.70]\n",
      "DP: [0.04,0.10]\n",
      "EO: [0.02,0.07]\n",
      "\n",
      "Confidence intervals for size 3\n",
      "AUC: [0.56,0.86]\n",
      "DP: [0.04,0.20]\n",
      "EO: [0.02,0.23]\n"
     ]
    }
   ],
   "source": [
    "df_100_lr = pd.read_csv(base_path+'post_metrics_nsize_{}_lr_without_fairness'.format(n_size[0]))\n",
    "df_1000_lr = pd.read_csv(base_path+'post_metrics_nsize_{}_lr_without_fairness'.format(n_size[1]))\n",
    "df_10000_lr = pd.read_csv(base_path+'post_metrics_nsize_{}_lr_without_fairness'.format(n_size[2]))\n",
    "\n",
    "print_confidence_intervals(df_100_lr, df_1000_lr, df_10000_lr)"
   ]
  }
 ],
 "metadata": {
  "kernelspec": {
   "display_name": "visInt",
   "language": "python",
   "name": "python3"
  },
  "language_info": {
   "codemirror_mode": {
    "name": "ipython",
    "version": 3
   },
   "file_extension": ".py",
   "mimetype": "text/x-python",
   "name": "python",
   "nbconvert_exporter": "python",
   "pygments_lexer": "ipython3",
   "version": "3.9.16"
  },
  "orig_nbformat": 4
 },
 "nbformat": 4,
 "nbformat_minor": 2
}
